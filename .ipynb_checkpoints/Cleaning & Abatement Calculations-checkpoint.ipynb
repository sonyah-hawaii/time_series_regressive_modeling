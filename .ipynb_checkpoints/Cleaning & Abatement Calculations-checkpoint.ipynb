{
 "cells": [
  {
   "cell_type": "markdown",
   "metadata": {},
   "source": [
    "# Data Cleaning & Abatement Calculations (Target Development)\n",
    "This notebook outlines the process of developing the target variable: CO2 units abated annually over time. The calculation uses datasets from 2 different sources: the [Enerdata Statistical Yearbook](https://yearbook.enerdata.net/) and the [World Bank](https://data.worldbank.org/indicator/EN.CO2.ETOT.ZS). The intention of developing this target, instead of only using the metrics given, is to focus the analysis towards the long-term goal (improving environmental quality by reducing overall emissions).  \n",
    "\n",
    "(DISCLOSURE: this data was cleaned before being pushed so running these cells will throw an error at some point.)\n",
    "\n",
    "## Notebook Contents\n",
    "- [Loading in and merging data sources](#loading_and_merging)  \n",
    "    [Countries in the dataset](#full_country_list)\n",
    "- [Developing abatement equation](#equation)\n",
    "- [Historical Abatement Calculations](#abatement_calculations)\n",
    "- [Completed CSV File](#csv)"
   ]
  },
  {
   "cell_type": "code",
   "execution_count": 1,
   "metadata": {},
   "outputs": [],
   "source": [
    "import pandas as pd\n",
    "import numpy as np\n",
    "import matplotlib.pyplot as plt\n",
    "\n",
    "%matplotlib inline"
   ]
  },
  {
   "cell_type": "markdown",
   "metadata": {},
   "source": [
    "### _Loading in and merging data sources_\n",
    "<a id='loading_and_merging'></a>\n",
    "\n",
    "Although most of our data is from the same source, each attribute needed to be pulled and saved as a separate table, then read in individually. There were initially a few issues with the way the datasets were reading in because of how the Yearbook is formatted so the `kwargs` and the `.replace` cell were included as a result of trial-and-error read-ins.  \n",
    "\n",
    "Otherwise, there is no true cleaning needed, except to [fill nulls for the patent dataset](#fill_nulls)"
   ]
  },
  {
   "cell_type": "code",
   "execution_count": 9,
   "metadata": {},
   "outputs": [],
   "source": [
    "#Loading in CSVs\n",
    "total_emissions = pd.read_csv('./Data/Original/CO2_emissions.csv')\n",
    "electric_consumption = pd.read_csv('./Data/Original/electric_consumption')\n",
    "electric_emissions = pd.read_csv('./Data/Original/electric_emissions.csv', encoding='latin')\n",
    "electric_production = pd.read_csv('./Data/Original/electric_production.csv')\n",
    "reneg_production = pd.read_csv('./Data/Original/reneg_production.csv')"
   ]
  },
  {
   "cell_type": "code",
   "execution_count": 10,
   "metadata": {},
   "outputs": [],
   "source": [
    "#Re-formatting our string characters into numbers to avoid errors\n",
    "\n",
    "total_emissions.replace(r',','', inplace=True, regex=True)\n",
    "electric_consumption.replace(r',','', inplace=True, regex=True)\n",
    "electric_emissions.replace(r',','', inplace=True, regex=True)\n",
    "electric_production.replace(r',','', inplace=True, regex=True)\n",
    "reneg_production.replace(r',','', inplace=True, regex=True)"
   ]
  },
  {
   "cell_type": "markdown",
   "metadata": {},
   "source": [
    "<a id='fill_nulls'></a>"
   ]
  },
  {
   "cell_type": "code",
   "execution_count": 11,
   "metadata": {},
   "outputs": [],
   "source": [
    "#Setting list of unique countries that exist in all dataframes\n",
    "#Including world, will be separated later\n",
    "\n",
    "Countries = ['Belgium', 'France', 'Germany', 'Italy', 'Netherlands', 'Poland', 'Portugal','Romania',\n",
    "'Spain','United Kingdom','Turkey','Sweden','Norway','Kazakhstan','Ukraine','Uzbekistan','Canada',\n",
    "'United States','Argentina','Brazil','Chile','Colombia','Mexico','China','India','Indonesia',\n",
    "'Japan','Malaysia','Thailand','Australia','New Zealand','Algeria','Nigeria','South Africa','Kuwait',\n",
    "'Saudi Arabia','United Arab Emirates','World'\n",
    "    ]\n",
    "\n",
    "Countries.sort()"
   ]
  },
  {
   "cell_type": "code",
   "execution_count": 12,
   "metadata": {},
   "outputs": [],
   "source": [
    "total_emissions = total_emissions.loc[total_emissions['Country'].isin(Countries)].sort_values('Country')\n",
    "electric_consumption = electric_consumption.loc[electric_consumption['Unnamed: 0.1'].isin(Countries)].sort_values('Unnamed: 0')\n",
    "electric_emissions = electric_emissions.loc[electric_emissions['Country Name'].isin(Countries)].sort_values('Country Name')\n",
    "electric_production = electric_production.loc[electric_production['Country'].isin(Countries)].sort_values('Country') \n",
    "reneg_production = reneg_production.loc[reneg_production['Country'].isin(Countries)].sort_values('Country')"
   ]
  },
  {
   "cell_type": "code",
   "execution_count": 14,
   "metadata": {},
   "outputs": [],
   "source": [
    "electric_consumption.drop('Unnamed: 0', axis=1, inplace=True)\n",
    "electric_emissions.drop(['Unnamed: 0','Unnamed: 0.1', 'Unnamed: 0.1.1',\n",
    "                         'Unnamed: 0.1.1.1', 'Country Code', 'Indicator Name',\n",
    "                         'Indicator Code'],\n",
    "                        axis=1, inplace=True)\n",
    "electric_production.drop(['Unnamed: 0', 'Unnamed: 0.1', 'Unnamed: 0.1.1',\n",
    "                          'Unnamed: 0.1.1'], axis=1, inplace=True)"
   ]
  },
  {
   "cell_type": "code",
   "execution_count": 15,
   "metadata": {},
   "outputs": [],
   "source": [
    "#Loading in CSVs\n",
    "total_emissions.to_csv('./Data/CO2_emissions.csv')\n",
    "electric_consumption.to_csv('./Data/electric_consumption.csv')\n",
    "electric_emissions.to_csv('./Data/electric_emissions.csv')\n",
    "electric_production.to_csv('./Data/electric_production.csv')\n",
    "reneg_production.to_csv('./Data/reneg_production.csv')"
   ]
  },
  {
   "cell_type": "markdown",
   "metadata": {},
   "source": [
    "<a id='full_country_list'></a>"
   ]
  },
  {
   "cell_type": "markdown",
   "metadata": {},
   "source": [
    "### _Developing the Abatement Equation_\n",
    "<a id='equation'></a>\n",
    "\n",
    "In order to develop this equation the datasets needed to be merged individually to avoid errors and column name confusion. The datasets included in this process house emissions data, percentage of emissions from electricity and heat production, total electricity production, and percentage of electricity production from renewable resources (solar, wind, and geothermal).\n",
    "\n",
    "You can also [skip to the equation broken down step-by-step](#equation_breakdown)\n"
   ]
  },
  {
   "cell_type": "code",
   "execution_count": 16,
   "metadata": {},
   "outputs": [],
   "source": [
    "#In order to build out the equation and check the output I'm creating subsets for only 2014 data\n",
    "#The process of merging follows the steps of the calculation so that it can be calculated across\n",
    "#the dataframe\n",
    "\n",
    "total_emissions_14 = total_emissions[['Country', '2014']]\n",
    "electric_emissions_14 = electric_emissions[['Country Name', '2014']]\n",
    "electric_production_14 = electric_production[['Country', '2014']]\n",
    "reneg_production_14 = reneg_production[['Country','2014']]"
   ]
  },
  {
   "cell_type": "code",
   "execution_count": 17,
   "metadata": {},
   "outputs": [],
   "source": [
    "#Creating the dataset, designated here as abatement_dataset\n",
    "#Beginning with total emissions and adding in electric emissions \n",
    "#These will create our first step in the equation, CO2 emissions from electricity & heat\n",
    "\n",
    "abatement_dataset = pd.merge(total_emissions_14, electric_emissions_14, how='left',\n",
    "                       left_on='Country', right_on='Country Name', left_index=True,\n",
    "                            suffixes=[' co2_emissions','electric_emissions_pct'])\n",
    "\n",
    "#Dropping double country columns and renaming to keep track\n",
    "abatement_dataset.drop(labels='Country Name', axis=1, inplace=True)\n",
    "abatement_dataset.columns = ['country','co2_emissions','electric_emissions_pct']"
   ]
  },
  {
   "cell_type": "code",
   "execution_count": 18,
   "metadata": {},
   "outputs": [],
   "source": [
    "#Adding on electric production to the dataset\n",
    "#This will be the first part of our CO2 units per unit of energy calculation\n",
    "\n",
    "abatement_dataset = pd.merge(abatement_dataset, electric_production_14, how='left',\n",
    "                            left_on='country', right_on='Country', left_index=True)\n",
    "\n",
    "#Dropping double country column and renaming others \n",
    "abatement_dataset.columns=['country', 'co2_emissions', 'electric_emissions_pct',\n",
    "                           'country1', 'electric_production']\n",
    "abatement_dataset.drop(labels='country1', axis=1, inplace=True)"
   ]
  },
  {
   "cell_type": "code",
   "execution_count": 19,
   "metadata": {},
   "outputs": [],
   "source": [
    "\n",
    "#Adding the percent share of renewable energy for the second component of the CO2 units per energy unit\n",
    "\n",
    "abatement_dataset = pd.merge(abatement_dataset, reneg_production_14, how='left',\n",
    "                            left_on='country', right_on='Country', left_index=True)\n",
    "\n",
    "#Dropping double country column and renaming others\n",
    "abatement_dataset.columns=['country', 'co2_emissions', 'electric_emissions_pct',\n",
    "                           'electric_production', 'country1','reneg_production']\n",
    "abatement_dataset.drop(labels='country1', axis=1, inplace=True)"
   ]
  },
  {
   "cell_type": "code",
   "execution_count": 20,
   "metadata": {},
   "outputs": [],
   "source": [
    "#This column was throwing an error, converting to int so it will calculate without issues\n",
    "abatement_dataset.co2_emissions = abatement_dataset.co2_emissions.astype(int)"
   ]
  },
  {
   "cell_type": "code",
   "execution_count": 21,
   "metadata": {},
   "outputs": [
    {
     "data": {
      "text/html": [
       "<div>\n",
       "<style scoped>\n",
       "    .dataframe tbody tr th:only-of-type {\n",
       "        vertical-align: middle;\n",
       "    }\n",
       "\n",
       "    .dataframe tbody tr th {\n",
       "        vertical-align: top;\n",
       "    }\n",
       "\n",
       "    .dataframe thead th {\n",
       "        text-align: right;\n",
       "    }\n",
       "</style>\n",
       "<table border=\"1\" class=\"dataframe\">\n",
       "  <thead>\n",
       "    <tr style=\"text-align: right;\">\n",
       "      <th></th>\n",
       "      <th>country</th>\n",
       "      <th>co2_emissions</th>\n",
       "      <th>electric_emissions_pct</th>\n",
       "      <th>electric_production</th>\n",
       "      <th>reneg_production</th>\n",
       "    </tr>\n",
       "  </thead>\n",
       "  <tbody>\n",
       "    <tr>\n",
       "      <th>0</th>\n",
       "      <td>Algeria</td>\n",
       "      <td>133</td>\n",
       "      <td>38.83</td>\n",
       "      <td>71</td>\n",
       "      <td>0.28</td>\n",
       "    </tr>\n",
       "    <tr>\n",
       "      <th>1</th>\n",
       "      <td>Argentina</td>\n",
       "      <td>198</td>\n",
       "      <td>38.04</td>\n",
       "      <td>142</td>\n",
       "      <td>31.69</td>\n",
       "    </tr>\n",
       "    <tr>\n",
       "      <th>2</th>\n",
       "      <td>Australia</td>\n",
       "      <td>378</td>\n",
       "      <td>58.36</td>\n",
       "      <td>248</td>\n",
       "      <td>14.92</td>\n",
       "    </tr>\n",
       "    <tr>\n",
       "      <th>3</th>\n",
       "      <td>Belgium</td>\n",
       "      <td>89</td>\n",
       "      <td>25.85</td>\n",
       "      <td>73</td>\n",
       "      <td>18.44</td>\n",
       "    </tr>\n",
       "    <tr>\n",
       "      <th>4</th>\n",
       "      <td>Brazil</td>\n",
       "      <td>475</td>\n",
       "      <td>26.31</td>\n",
       "      <td>591</td>\n",
       "      <td>73.08</td>\n",
       "    </tr>\n",
       "  </tbody>\n",
       "</table>\n",
       "</div>"
      ],
      "text/plain": [
       "     country  co2_emissions  electric_emissions_pct  electric_production  \\\n",
       "0    Algeria            133                   38.83                   71   \n",
       "1  Argentina            198                   38.04                  142   \n",
       "2  Australia            378                   58.36                  248   \n",
       "3    Belgium             89                   25.85                   73   \n",
       "4     Brazil            475                   26.31                  591   \n",
       "\n",
       "   reneg_production  \n",
       "0              0.28  \n",
       "1             31.69  \n",
       "2             14.92  \n",
       "3             18.44  \n",
       "4             73.08  "
      ]
     },
     "execution_count": 21,
     "metadata": {},
     "output_type": "execute_result"
    }
   ],
   "source": [
    "#Preview of the dataset\n",
    "abatement_dataset.head()"
   ]
  },
  {
   "cell_type": "markdown",
   "metadata": {},
   "source": [
    "## _Equation Breakdown_\n",
    "<a id='equation_breakdown'></a>\n",
    "\n",
    "This equation was developed with a few focuses. In order to truly measure abatement, it was first important to determine how much of a country's emissions were caused by generation of electricity and heat ($φυ$) because these are the two consumption routes that renewable energy sources are a part of. You can then divide this value by the share of conventional production ($λ(1-γ)$)to get the units of CO2 emitted per unit of energy produced with conventional methods. Finally, we can multiple that number by the share of energy produced with renewable methods to assess how many units of CO2 were _saved_ per unit of renewable energy produced.  \n",
    "\n",
    "\n",
    "# $$\\frac{φυ}{λ(1-γ)}γλ$$\n",
    "**co2_abated (Final Output)**: _metric tons of CO2 abated for every unit of energy produced using renewable sources_  \n",
    "Where:\n",
    "-  $φ$ is **co2_emissions**: _Total CO2 Units emitted annually, measured in metric tons of CO2_  \n",
    "- $υ$ is **electric_emissions_pct**: _Percentage of CO2 emissions from producing heat & electricity_  \n",
    "- $λ$ is **electric_production**: _Amount of electricity produced annually, measured in metric tons of energy_  \n",
    "- $γ$ is **reneg_production**: _Percentage of electricity production from renewable sources_  \n",
    "\n"
   ]
  },
  {
   "cell_type": "code",
   "execution_count": 22,
   "metadata": {},
   "outputs": [],
   "source": [
    "#1. determine actual emissions from electricity and heat production alone\n",
    "#Using % of emissions that comes from generating heat & electricity\n",
    "abatement_dataset['co2_electricity'] = abatement_dataset.co2_emissions * (abatement_dataset.electric_emissions_pct/100)\n",
    "\n",
    "#2. understand how much C02 is produced per unit of energy\n",
    "# Of electricity production how \n",
    "abatement_dataset['reneg_production_share'] = (abatement_dataset.reneg_production/100)*abatement_dataset.electric_production #share of regular energy\n",
    "abatement_dataset['conventional_production_share'] = abatement_dataset.electric_production*(1-(abatement_dataset.reneg_production/100))\n",
    "# #once i know how much is non-renewable I can use C02 emissions/energyproduction and find out C02 per unit of production\n",
    "\n",
    "# # Of the total energy output from electric plants what percentage is renewable\n",
    "abatement_dataset['co2_units'] = abatement_dataset.co2_electricity/abatement_dataset.conventional_production_share\n",
    "\n",
    "# # How much C02 is not being produced for the share of green energy usage\n",
    "#C02 units * renewable energy share = C02 saved\n",
    "abatement_dataset['co2_abated'] = abatement_dataset.co2_units*abatement_dataset.reneg_production_share"
   ]
  },
  {
   "cell_type": "code",
   "execution_count": 23,
   "metadata": {},
   "outputs": [
    {
     "data": {
      "text/html": [
       "<div>\n",
       "<style scoped>\n",
       "    .dataframe tbody tr th:only-of-type {\n",
       "        vertical-align: middle;\n",
       "    }\n",
       "\n",
       "    .dataframe tbody tr th {\n",
       "        vertical-align: top;\n",
       "    }\n",
       "\n",
       "    .dataframe thead th {\n",
       "        text-align: right;\n",
       "    }\n",
       "</style>\n",
       "<table border=\"1\" class=\"dataframe\">\n",
       "  <thead>\n",
       "    <tr style=\"text-align: right;\">\n",
       "      <th></th>\n",
       "      <th>country</th>\n",
       "      <th>co2_abated</th>\n",
       "    </tr>\n",
       "  </thead>\n",
       "  <tbody>\n",
       "    <tr>\n",
       "      <th>0</th>\n",
       "      <td>Algeria</td>\n",
       "      <td>0.145009</td>\n",
       "    </tr>\n",
       "    <tr>\n",
       "      <th>1</th>\n",
       "      <td>Argentina</td>\n",
       "      <td>34.941670</td>\n",
       "    </tr>\n",
       "    <tr>\n",
       "      <th>2</th>\n",
       "      <td>Australia</td>\n",
       "      <td>38.685519</td>\n",
       "    </tr>\n",
       "    <tr>\n",
       "      <th>3</th>\n",
       "      <td>Belgium</td>\n",
       "      <td>5.201568</td>\n",
       "    </tr>\n",
       "    <tr>\n",
       "      <th>4</th>\n",
       "      <td>Brazil</td>\n",
       "      <td>339.264127</td>\n",
       "    </tr>\n",
       "  </tbody>\n",
       "</table>\n",
       "</div>"
      ],
      "text/plain": [
       "     country  co2_abated\n",
       "0    Algeria    0.145009\n",
       "1  Argentina   34.941670\n",
       "2  Australia   38.685519\n",
       "3    Belgium    5.201568\n",
       "4     Brazil  339.264127"
      ]
     },
     "execution_count": 23,
     "metadata": {},
     "output_type": "execute_result"
    }
   ],
   "source": [
    "abatement_dataset[['country','co2_abated']].head()"
   ]
  },
  {
   "cell_type": "markdown",
   "metadata": {},
   "source": [
    "### _Historical Abatement Calculations_\n",
    "\n",
    "<a id='abatement_calculations'></a>"
   ]
  },
  {
   "cell_type": "code",
   "execution_count": 24,
   "metadata": {},
   "outputs": [],
   "source": [
    "datasets = ['total_emissions',\n",
    "'electric_consumption',\n",
    "'electric_emissions',\n",
    "'electric_production',\n",
    "'reneg_production']"
   ]
  },
  {
   "cell_type": "code",
   "execution_count": 25,
   "metadata": {},
   "outputs": [],
   "source": [
    "years = ['1990','1991','1992','1993','1994','1995','1996','1997', '1998','1999','2000','2001',\n",
    "         '2002','2003','2004','2005','2006','2007','2008','2009','2010','2011','2012','2013','2014']"
   ]
  },
  {
   "cell_type": "code",
   "execution_count": 26,
   "metadata": {},
   "outputs": [],
   "source": [
    "def abatement_calculator(datasets, no_years):\n",
    "    abatement = pd.DataFrame()\n",
    "    for year in no_years:\n",
    "        for dataset in datasets:\n",
    "            #print(dataset)\n",
    "            if dataset == 'total_emissions':\n",
    "                    country = eval(dataset)['Country']\n",
    "                    co2_emissions = eval(dataset)[year]\n",
    "                    co2_emissions = co2_emissions.astype(int).values\n",
    "            if dataset == 'electric_emissions':\n",
    "                    electric_emissions_pct = eval(dataset)[year].values/100\n",
    "            if dataset == 'electric_production':\n",
    "                    electric_prod = eval(dataset)[year].values\n",
    "            if dataset == 'reneg_production':\n",
    "                    reneg_prod_pct = eval(dataset)[year].values/100                    \n",
    "                    \n",
    "        abatement['country'] = country   \n",
    "        abatement[year] = ((co2_emissions*electric_emissions_pct)/(electric_prod-(reneg_prod_pct*electric_prod)))*(reneg_prod_pct*electric_prod)\n",
    "    return abatement"
   ]
  },
  {
   "cell_type": "code",
   "execution_count": 27,
   "metadata": {},
   "outputs": [],
   "source": [
    "abate = abatement_calculator(datasets, years)"
   ]
  },
  {
   "cell_type": "markdown",
   "metadata": {},
   "source": [
    "<a id='csv'></a>"
   ]
  },
  {
   "cell_type": "code",
   "execution_count": 28,
   "metadata": {},
   "outputs": [],
   "source": [
    "abate.to_csv('./Data/abatement_calculations.csv')"
   ]
  }
 ],
 "metadata": {
  "kernelspec": {
   "display_name": "Python 3",
   "language": "python",
   "name": "python3"
  },
  "language_info": {
   "codemirror_mode": {
    "name": "ipython",
    "version": 3
   },
   "file_extension": ".py",
   "mimetype": "text/x-python",
   "name": "python",
   "nbconvert_exporter": "python",
   "pygments_lexer": "ipython3",
   "version": "3.6.5"
  }
 },
 "nbformat": 4,
 "nbformat_minor": 2
}
