{
 "cells": [
  {
   "cell_type": "markdown",
   "metadata": {},
   "source": [
    "# Clustering with K-Means  \n",
    "This notebook details the process of grouping clusters using K-Means clustering. The unsupervised technique will cluster countries using year-on-year change in abatement over time. This is one component of testing methods of incorporating variance into the modeling process. The resulting clusters will be used to generate regression models. The theory behind this approach is that grouping the countries beforehand will result in models that are better able to learn variance because the groups are determined according to changes in value over time. This approach could be done with other measures, as well: \n",
    "\n",
    " $$(xi-\\mu)^2, \\frac{(xi-\\mu)^2}{\\sqrt n}, or  \\frac{x_t - x_{t-1}}{x_{t-1}}$$  \n",
    "The notebook ends with a `.csv` file which is used in the [Variance Analysis notebook](https://github.com/sonyah-hawaii/time_series_regressive_modeling/blob/master/Variance%20Analysis.ipynb)\n",
    "\n",
    "(Note: if you run all the cells the resulting clusters will persist but the labels may change, which will result in inconsistencies in the Variance Analysis notebook.)\n",
    "## Notebook Contents\n",
    "- [Reading in & preparing data](#reading_preparing)  \n",
    "- [Determining Number of Clusters using `sklearn` functions](#elbow_curve)\n",
    "- [Clustering `.diff()` values with `K-Means`](#clusters)"
   ]
  },
  {
   "cell_type": "code",
   "execution_count": 1,
   "metadata": {},
   "outputs": [],
   "source": [
    "import pandas as pd\n",
    "import numpy as np\n",
    "import matplotlib.pyplot as plt\n",
    "import seaborn as sns\n",
    "\n",
    "%matplotlib inline"
   ]
  },
  {
   "cell_type": "markdown",
   "metadata": {},
   "source": [
    "## Reading In & Preparing Data\n",
    "<a id='reading_preparing'></a>"
   ]
  },
  {
   "cell_type": "code",
   "execution_count": 2,
   "metadata": {},
   "outputs": [],
   "source": [
    "abatement = pd.read_csv('./Data/abatement_calculations.csv')\n",
    "gdp = pd.read_excel('./Data/Supplementary Datasets/gdp_pc.xlsx')\n",
    "emissions = pd.read_csv('./Data/CO2_emissions.csv')"
   ]
  },
  {
   "cell_type": "code",
   "execution_count": 3,
   "metadata": {},
   "outputs": [],
   "source": [
    "emissions.drop(['Unnamed: 0','Unnamed: 0.1'], axis=1, inplace=True)\n",
    "abatement.set_index('country', inplace=True)\n",
    "emissions.set_index('Country', inplace=True)"
   ]
  },
  {
   "cell_type": "code",
   "execution_count": 4,
   "metadata": {},
   "outputs": [],
   "source": [
    "abatement_yoy_change = abatement.T.diff()"
   ]
  },
  {
   "cell_type": "code",
   "execution_count": 7,
   "metadata": {},
   "outputs": [],
   "source": [
    "# abatement_yoy_change.drop('1990', axis=0, inplace=True)\n",
    "# gdp.drop(['1990', '2015', '2016', '2017'], inplace=True)"
   ]
  },
  {
   "cell_type": "code",
   "execution_count": 8,
   "metadata": {},
   "outputs": [
    {
     "data": {
      "text/plain": [
       "659"
      ]
     },
     "execution_count": 8,
     "metadata": {},
     "output_type": "execute_result"
    }
   ],
   "source": [
    "gdp.isnull().sum().sum()"
   ]
  },
  {
   "cell_type": "code",
   "execution_count": 9,
   "metadata": {},
   "outputs": [],
   "source": [
    "gdp.fillna(0, inplace=True)"
   ]
  },
  {
   "cell_type": "code",
   "execution_count": 10,
   "metadata": {},
   "outputs": [],
   "source": [
    "# clusters = pd.merge(abatement_yoy_change.T, gdp, how='inner',\n",
    "#                     left_index=True, right_index=True,\n",
    "#                    suffixes=['_abatement','_gdp_pc'])\n",
    "clusters = abatement_yoy_change.T.drop('label', axis=1).drop('World', axis=0)\n",
    "\n",
    "#Added this in after I had already run this entire notebook, because label was already on my dataframe\n",
    "label = abatement_yoy_change.T['label'].drop('World', axis=0)"
   ]
  },
  {
   "cell_type": "code",
   "execution_count": 11,
   "metadata": {},
   "outputs": [],
   "source": [
    "# clusters.to_csv('./Data/clustered_data.csv')"
   ]
  },
  {
   "cell_type": "code",
   "execution_count": 12,
   "metadata": {},
   "outputs": [
    {
     "data": {
      "text/plain": [
       "(37, 24)"
      ]
     },
     "execution_count": 12,
     "metadata": {},
     "output_type": "execute_result"
    }
   ],
   "source": [
    "clusters.shape"
   ]
  },
  {
   "cell_type": "code",
   "execution_count": 14,
   "metadata": {},
   "outputs": [
    {
     "data": {
      "text/html": [
       "<div>\n",
       "<style scoped>\n",
       "    .dataframe tbody tr th:only-of-type {\n",
       "        vertical-align: middle;\n",
       "    }\n",
       "\n",
       "    .dataframe tbody tr th {\n",
       "        vertical-align: top;\n",
       "    }\n",
       "\n",
       "    .dataframe thead th {\n",
       "        text-align: right;\n",
       "    }\n",
       "</style>\n",
       "<table border=\"1\" class=\"dataframe\">\n",
       "  <thead>\n",
       "    <tr style=\"text-align: right;\">\n",
       "      <th></th>\n",
       "      <th>1991</th>\n",
       "      <th>1992</th>\n",
       "      <th>1993</th>\n",
       "      <th>1994</th>\n",
       "      <th>1995</th>\n",
       "      <th>1996</th>\n",
       "      <th>1997</th>\n",
       "      <th>1998</th>\n",
       "      <th>1999</th>\n",
       "      <th>2000</th>\n",
       "      <th>...</th>\n",
       "      <th>2005</th>\n",
       "      <th>2006</th>\n",
       "      <th>2007</th>\n",
       "      <th>2008</th>\n",
       "      <th>2009</th>\n",
       "      <th>2010</th>\n",
       "      <th>2011</th>\n",
       "      <th>2012</th>\n",
       "      <th>2013</th>\n",
       "      <th>2014</th>\n",
       "    </tr>\n",
       "    <tr>\n",
       "      <th>country</th>\n",
       "      <th></th>\n",
       "      <th></th>\n",
       "      <th></th>\n",
       "      <th></th>\n",
       "      <th></th>\n",
       "      <th></th>\n",
       "      <th></th>\n",
       "      <th></th>\n",
       "      <th></th>\n",
       "      <th></th>\n",
       "      <th></th>\n",
       "      <th></th>\n",
       "      <th></th>\n",
       "      <th></th>\n",
       "      <th></th>\n",
       "      <th></th>\n",
       "      <th></th>\n",
       "      <th></th>\n",
       "      <th></th>\n",
       "      <th></th>\n",
       "      <th></th>\n",
       "    </tr>\n",
       "  </thead>\n",
       "  <tbody>\n",
       "    <tr>\n",
       "      <th>Algeria</th>\n",
       "      <td>0.221591</td>\n",
       "      <td>-0.144035</td>\n",
       "      <td>0.193535</td>\n",
       "      <td>-0.257759</td>\n",
       "      <td>0.049240</td>\n",
       "      <td>-0.092277</td>\n",
       "      <td>-0.072547</td>\n",
       "      <td>0.164976</td>\n",
       "      <td>-0.010782</td>\n",
       "      <td>-0.187619</td>\n",
       "      <td>...</td>\n",
       "      <td>0.307247</td>\n",
       "      <td>-0.355223</td>\n",
       "      <td>-0.006837</td>\n",
       "      <td>0.042006</td>\n",
       "      <td>0.049848</td>\n",
       "      <td>-0.159937</td>\n",
       "      <td>0.246612</td>\n",
       "      <td>0.095462</td>\n",
       "      <td>-0.243023</td>\n",
       "      <td>-0.099268</td>\n",
       "    </tr>\n",
       "    <tr>\n",
       "      <th>Argentina</th>\n",
       "      <td>-2.514651</td>\n",
       "      <td>4.366813</td>\n",
       "      <td>0.885648</td>\n",
       "      <td>2.289184</td>\n",
       "      <td>-1.163970</td>\n",
       "      <td>-4.532136</td>\n",
       "      <td>5.207687</td>\n",
       "      <td>-2.070757</td>\n",
       "      <td>-5.869402</td>\n",
       "      <td>6.050696</td>\n",
       "      <td>...</td>\n",
       "      <td>2.472290</td>\n",
       "      <td>5.934784</td>\n",
       "      <td>-6.065012</td>\n",
       "      <td>-2.141209</td>\n",
       "      <td>3.517871</td>\n",
       "      <td>0.731120</td>\n",
       "      <td>6.479120</td>\n",
       "      <td>-2.251763</td>\n",
       "      <td>2.021943</td>\n",
       "      <td>2.164555</td>\n",
       "    </tr>\n",
       "    <tr>\n",
       "      <th>Australia</th>\n",
       "      <td>1.556081</td>\n",
       "      <td>-0.561085</td>\n",
       "      <td>1.067321</td>\n",
       "      <td>-0.742895</td>\n",
       "      <td>-0.534435</td>\n",
       "      <td>0.393304</td>\n",
       "      <td>1.492848</td>\n",
       "      <td>-0.665100</td>\n",
       "      <td>0.671673</td>\n",
       "      <td>-0.189580</td>\n",
       "      <td>...</td>\n",
       "      <td>2.728832</td>\n",
       "      <td>1.854505</td>\n",
       "      <td>-1.097874</td>\n",
       "      <td>-1.858742</td>\n",
       "      <td>-1.180898</td>\n",
       "      <td>2.833040</td>\n",
       "      <td>4.757738</td>\n",
       "      <td>0.353944</td>\n",
       "      <td>6.662100</td>\n",
       "      <td>3.615704</td>\n",
       "    </tr>\n",
       "    <tr>\n",
       "      <th>Belgium</th>\n",
       "      <td>0.043625</td>\n",
       "      <td>0.054352</td>\n",
       "      <td>-0.053460</td>\n",
       "      <td>0.105818</td>\n",
       "      <td>0.039514</td>\n",
       "      <td>-0.036604</td>\n",
       "      <td>-0.038866</td>\n",
       "      <td>0.117332</td>\n",
       "      <td>-0.031643</td>\n",
       "      <td>0.138529</td>\n",
       "      <td>...</td>\n",
       "      <td>0.238382</td>\n",
       "      <td>0.331535</td>\n",
       "      <td>0.147817</td>\n",
       "      <td>0.319802</td>\n",
       "      <td>0.063341</td>\n",
       "      <td>0.534419</td>\n",
       "      <td>0.562500</td>\n",
       "      <td>1.111464</td>\n",
       "      <td>0.138684</td>\n",
       "      <td>0.766849</td>\n",
       "    </tr>\n",
       "    <tr>\n",
       "      <th>Brazil</th>\n",
       "      <td>9.756433</td>\n",
       "      <td>11.309725</td>\n",
       "      <td>107.584207</td>\n",
       "      <td>18.490205</td>\n",
       "      <td>-123.463794</td>\n",
       "      <td>-15.848677</td>\n",
       "      <td>8.902263</td>\n",
       "      <td>7.649689</td>\n",
       "      <td>-102.370462</td>\n",
       "      <td>6.281242</td>\n",
       "      <td>...</td>\n",
       "      <td>54.779431</td>\n",
       "      <td>-10.346208</td>\n",
       "      <td>42.658298</td>\n",
       "      <td>-63.378976</td>\n",
       "      <td>102.368606</td>\n",
       "      <td>-86.464801</td>\n",
       "      <td>45.821475</td>\n",
       "      <td>-46.291123</td>\n",
       "      <td>-32.700359</td>\n",
       "      <td>-9.130219</td>\n",
       "    </tr>\n",
       "  </tbody>\n",
       "</table>\n",
       "<p>5 rows × 24 columns</p>\n",
       "</div>"
      ],
      "text/plain": [
       "               1991       1992        1993       1994        1995       1996  \\\n",
       "country                                                                        \n",
       "Algeria    0.221591  -0.144035    0.193535  -0.257759    0.049240  -0.092277   \n",
       "Argentina -2.514651   4.366813    0.885648   2.289184   -1.163970  -4.532136   \n",
       "Australia  1.556081  -0.561085    1.067321  -0.742895   -0.534435   0.393304   \n",
       "Belgium    0.043625   0.054352   -0.053460   0.105818    0.039514  -0.036604   \n",
       "Brazil     9.756433  11.309725  107.584207  18.490205 -123.463794 -15.848677   \n",
       "\n",
       "               1997      1998        1999      2000    ...          2005  \\\n",
       "country                                                ...                 \n",
       "Algeria   -0.072547  0.164976   -0.010782 -0.187619    ...      0.307247   \n",
       "Argentina  5.207687 -2.070757   -5.869402  6.050696    ...      2.472290   \n",
       "Australia  1.492848 -0.665100    0.671673 -0.189580    ...      2.728832   \n",
       "Belgium   -0.038866  0.117332   -0.031643  0.138529    ...      0.238382   \n",
       "Brazil     8.902263  7.649689 -102.370462  6.281242    ...     54.779431   \n",
       "\n",
       "                2006       2007       2008        2009       2010       2011  \\\n",
       "country                                                                        \n",
       "Algeria    -0.355223  -0.006837   0.042006    0.049848  -0.159937   0.246612   \n",
       "Argentina   5.934784  -6.065012  -2.141209    3.517871   0.731120   6.479120   \n",
       "Australia   1.854505  -1.097874  -1.858742   -1.180898   2.833040   4.757738   \n",
       "Belgium     0.331535   0.147817   0.319802    0.063341   0.534419   0.562500   \n",
       "Brazil    -10.346208  42.658298 -63.378976  102.368606 -86.464801  45.821475   \n",
       "\n",
       "                2012       2013      2014  \n",
       "country                                    \n",
       "Algeria     0.095462  -0.243023 -0.099268  \n",
       "Argentina  -2.251763   2.021943  2.164555  \n",
       "Australia   0.353944   6.662100  3.615704  \n",
       "Belgium     1.111464   0.138684  0.766849  \n",
       "Brazil    -46.291123 -32.700359 -9.130219  \n",
       "\n",
       "[5 rows x 24 columns]"
      ]
     },
     "execution_count": 14,
     "metadata": {},
     "output_type": "execute_result"
    }
   ],
   "source": [
    "clusters.head()"
   ]
  },
  {
   "cell_type": "markdown",
   "metadata": {},
   "source": [
    "## Determining Clusters\n",
    "_Using Inertia, Silhouette to generate an elbow curve_\n",
    "<a id='elbow_curve'></a>"
   ]
  },
  {
   "cell_type": "code",
   "execution_count": 15,
   "metadata": {},
   "outputs": [],
   "source": [
    "from sklearn.preprocessing import minmax_scale, StandardScaler\n",
    "from sklearn.cluster import KMeans\n",
    "from sklearn.cluster import KMeans\n",
    "from sklearn.metrics import silhouette_score"
   ]
  },
  {
   "cell_type": "code",
   "execution_count": 16,
   "metadata": {},
   "outputs": [
    {
     "data": {
      "text/plain": [
       "-2431.1279142858275"
      ]
     },
     "execution_count": 16,
     "metadata": {},
     "output_type": "execute_result"
    }
   ],
   "source": [
    "clusters.min().min()"
   ]
  },
  {
   "cell_type": "code",
   "execution_count": 17,
   "metadata": {},
   "outputs": [
    {
     "data": {
      "text/plain": [
       "2315.4511999998404"
      ]
     },
     "execution_count": 17,
     "metadata": {},
     "output_type": "execute_result"
    }
   ],
   "source": [
    "clusters.max().max()"
   ]
  },
  {
   "cell_type": "code",
   "execution_count": 18,
   "metadata": {},
   "outputs": [
    {
     "data": {
      "text/plain": [
       "0"
      ]
     },
     "execution_count": 18,
     "metadata": {},
     "output_type": "execute_result"
    }
   ],
   "source": [
    "clusters.isnull().sum().sum()"
   ]
  },
  {
   "cell_type": "code",
   "execution_count": 19,
   "metadata": {},
   "outputs": [],
   "source": [
    "n = range(2,15, 1)\n",
    "\n",
    "kmeans_inertia = []\n",
    "kmeans_silhouette = []\n",
    "for i in n:\n",
    "    km = KMeans(n_clusters=i, random_state=1994)\n",
    "    km.fit(clusters)\n",
    "    predictions = km.predict(clusters)\n",
    "    kmeans_inertia.append(km.inertia_)\n",
    "    kmeans_silhouette.append(silhouette_score(clusters, predictions))\n",
    "\n",
    "kmeans_silhouette = minmax_scale(kmeans_silhouette)\n",
    "kmeans_inertia = minmax_scale(kmeans_inertia)"
   ]
  },
  {
   "cell_type": "code",
   "execution_count": 20,
   "metadata": {},
   "outputs": [
    {
     "data": {
      "image/png": "[encoded data removed]",
      "text/plain": [
       "<Figure size 432x288 with 1 Axes>"
      ]
     },
     "metadata": {},
     "output_type": "display_data"
    }
   ],
   "source": [
    "plt.plot(n, kmeans_inertia, label='Inertia score');\n",
    "plt.plot(n, kmeans_silhouette, label='Silhouette score');\n",
    "plt.legend();\n",
    "plt.title('Elbow curve with scaled inertia and silhouette output');"
   ]
  },
  {
   "cell_type": "markdown",
   "metadata": {},
   "source": [
    "#### _While this graph says that the optimal clusters would be 3-4, I'm actually going to steer away from that and use 6. While achieving maximum Silhouette score can be significant for certain applications of K-Means, like profile development (where clusters guide you towards revealing patterns in exogenous features), in this case it is most important that it facilitates grouping according to trend. In this case, minimizing distance within groups is not as important as maximizing between._"
   ]
  },
  {
   "cell_type": "markdown",
   "metadata": {},
   "source": [
    "## Clustering with `K-Means`\n",
    "We're going to use the number of clusters according to the elbow curve. The value looks halfway between 3 and 4, but 4 turned out a little better so we'll work with that._\n",
    "<a id='reading_preparing'></a>"
   ]
  },
  {
   "cell_type": "code",
   "execution_count": 21,
   "metadata": {},
   "outputs": [],
   "source": [
    "clusters = clusters.iloc[:, 0:24]"
   ]
  },
  {
   "cell_type": "code",
   "execution_count": 24,
   "metadata": {},
   "outputs": [
    {
     "name": "stdout",
     "output_type": "stream",
     "text": [
      "There are 1 countries in cluster 0\n",
      "['United States']\n",
      "\n",
      "There are 28 countries in cluster 1\n",
      "['Algeria', 'Argentina', 'Australia', 'Belgium', 'Chile', 'France', 'Indonesia', 'Italy', 'Kazakhstan', 'Kuwait', 'Malaysia', 'Mexico', 'Netherlands', 'New Zealand', 'Nigeria', 'Poland', 'Portugal', 'Romania', 'Saudi Arabia', 'South Africa', 'Spain', 'Sweden', 'Thailand', 'Turkey', 'Ukraine', 'United Arab Emirates', 'United Kingdom', 'Uzbekistan']\n",
      "\n",
      "There are 1 countries in cluster 2\n",
      "['Norway']\n",
      "\n",
      "There are 1 countries in cluster 3\n",
      "['China']\n",
      "\n",
      "There are 1 countries in cluster 4\n",
      "['Brazil']\n",
      "\n",
      "There are 5 countries in cluster 5\n",
      "['Canada', 'Colombia', 'Germany', 'India', 'Japan']\n",
      "\n"
     ]
    }
   ],
   "source": [
    "ss = StandardScaler()\n",
    "clusters_scaled = ss.fit_transform(clusters)\n",
    "\n",
    "km = KMeans(n_clusters = 6, random_state=1994)\n",
    "km.fit(clusters_scaled)\n",
    "\n",
    "\n",
    "centers = km.cluster_centers_\n",
    "centers = pd.DataFrame(centers)\n",
    "clusters['label'] = km.labels_\n",
    "\n",
    "for i in range(0, 6):\n",
    "    print(f'There are {len(clusters[clusters.label==i])} countries in cluster {i}')\n",
    "    print(f'{[n for n in clusters[clusters.label==i].index]}\\n')"
   ]
  },
  {
   "cell_type": "code",
   "execution_count": 27,
   "metadata": {},
   "outputs": [],
   "source": [
    "#Code used to save labels during the first run through\n",
    "labels = [i for i in km.labels_]\n",
    "#NaN added for World value\n",
    "labels.append(np.nan)\n",
    "\n",
    "#Saved to dataframe\n",
    "abatement['label']=labels\n",
    "emissions['label'] = labels"
   ]
  },
  {
   "cell_type": "code",
   "execution_count": 28,
   "metadata": {},
   "outputs": [],
   "source": [
    "#Saving all output to csv's\n",
    "clusters.to_csv('./Data/clusters_abatement.csv')\n",
    "emissions.to_csv('./Data/clusters_emissions.csv')\n",
    "centers.to_csv('./Data/cluster_centers.csv')\n",
    "abatement.to_csv('./Data/abatement_calculations.csv')"
   ]
  },
  {
   "cell_type": "markdown",
   "metadata": {},
   "source": [
    "For a more in-depth analysis of variance of each cluster see the [Variance Analysis](#www.google.com) notebook"
   ]
  }
 ],
 "metadata": {
  "kernelspec": {
   "display_name": "Python 3",
   "language": "python",
   "name": "python3"
  },
  "language_info": {
   "codemirror_mode": {
    "name": "ipython",
    "version": 3
   },
   "file_extension": ".py",
   "mimetype": "text/x-python",
   "name": "python",
   "nbconvert_exporter": "python",
   "pygments_lexer": "ipython3",
   "version": "3.6.5"
  }
 },
 "nbformat": 4,
 "nbformat_minor": 2
}
