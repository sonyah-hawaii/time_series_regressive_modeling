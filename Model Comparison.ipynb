{
 "cells": [
  {
   "cell_type": "markdown",
   "metadata": {},
   "source": [
    "# Model Comparison"
   ]
  },
  {
   "cell_type": "code",
   "execution_count": null,
   "metadata": {},
   "outputs": [],
   "source": [
    "#this for loop will re-set column names from numbers to strings\n",
    "names =[]\n",
    "for i in gdp.columns:\n",
    "    i = str(i)\n",
    "    names.append(i)\n",
    "    \n",
    "gdp.columns = names"
   ]
  },
  {
   "cell_type": "code",
   "execution_count": null,
   "metadata": {},
   "outputs": [],
   "source": [
    "for i in emissions:\n",
    "    fig, ax = plt.subplots()\n",
    "    plt.xlim(-5,175)\n",
    "    plt.ylim(0,.07)\n",
    "    sns.distplot(np.sqrt(emissions[i]), bins=20, ax=ax);\n",
    "    plt.savefig(f'./emissions_over_time/dist_{i}')\n",
    "    plt.close(fig)\n",
    "    #put this into terminal when you're inside the folder\n",
    "    #convert -delay 50 *.png -loop 1 movie.gif"
   ]
  }
 ],
 "metadata": {
  "kernelspec": {
   "display_name": "Python 3",
   "language": "python",
   "name": "python3"
  },
  "language_info": {
   "codemirror_mode": {
    "name": "ipython",
    "version": 3
   },
   "file_extension": ".py",
   "mimetype": "text/x-python",
   "name": "python",
   "nbconvert_exporter": "python",
   "pygments_lexer": "ipython3",
   "version": "3.6.5"
  }
 },
 "nbformat": 4,
 "nbformat_minor": 2
}
