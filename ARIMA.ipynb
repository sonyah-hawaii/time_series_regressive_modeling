{
 "cells": [
  {
   "cell_type": "markdown",
   "metadata": {},
   "source": [
    "https://www.youtube.com/watch?v=WFVZLRzG9Fw&list=PLYGvOQTnahYK1o6XyY0aaPLQxd68_tX86&index=124&t=0s"
   ]
  },
  {
   "cell_type": "markdown",
   "metadata": {},
   "source": [
    "- ARIMA will take in a single country\n",
    "- One column of values in order\n",
    "- order from latest to most recent\n",
    "- .shift(), then concatenate with original"
   ]
  },
  {
   "cell_type": "code",
   "execution_count": 1,
   "metadata": {},
   "outputs": [],
   "source": [
    "import pandas as pd\n"
   ]
  },
  {
   "cell_type": "code",
   "execution_count": 3,
   "metadata": {},
   "outputs": [],
   "source": [
    "abatement = pd.read_csv('./Data/abatement_calculations.csv')"
   ]
  },
  {
   "cell_type": "code",
   "execution_count": 7,
   "metadata": {},
   "outputs": [],
   "source": [
    "abatement.drop('Unnamed: 0', axis=1, inplace=True)"
   ]
  },
  {
   "cell_type": "code",
   "execution_count": 25,
   "metadata": {},
   "outputs": [
    {
     "name": "stderr",
     "output_type": "stream",
     "text": [
      "/Users/sonyahseiden/anaconda3/lib/python3.6/site-packages/pandas/core/frame.py:3694: SettingWithCopyWarning: \n",
      "A value is trying to be set on a copy of a slice from a DataFrame\n",
      "\n",
      "See the caveats in the documentation: http://pandas.pydata.org/pandas-docs/stable/indexing.html#indexing-view-versus-copy\n",
      "  errors=errors)\n"
     ]
    }
   ],
   "source": [
    "world = abatement[abatement['country']=='World'].drop('country', axis=1, inplace=True)"
   ]
  },
  {
   "cell_type": "code",
   "execution_count": 26,
   "metadata": {},
   "outputs": [],
   "source": [
    "world = abatement[abatement['country']=='World'].T"
   ]
  },
  {
   "cell_type": "code",
   "execution_count": 29,
   "metadata": {},
   "outputs": [],
   "source": [
    "world['lag'] = world.shift(1)"
   ]
  },
  {
   "cell_type": "code",
   "execution_count": 35,
   "metadata": {},
   "outputs": [],
   "source": [
    "world.columns=['target','lag']"
   ]
  },
  {
   "cell_type": "code",
   "execution_count": 38,
   "metadata": {},
   "outputs": [],
   "source": [
    "world['lag2'] = world['target'].shift(2)"
   ]
  },
  {
   "cell_type": "markdown",
   "metadata": {},
   "source": [
    "## STUFF FOR BAYES"
   ]
  },
  {
   "cell_type": "code",
   "execution_count": null,
   "metadata": {},
   "outputs": [],
   "source": []
  },
  {
   "cell_type": "code",
   "execution_count": 40,
   "metadata": {},
   "outputs": [],
   "source": [
    "for i in range(1, 16):\n",
    "    world[f'lag{i}'] = world['target'].shift(-i)"
   ]
  },
  {
   "cell_type": "code",
   "execution_count": 44,
   "metadata": {},
   "outputs": [],
   "source": [
    "world_thing = world.loc['2004':]"
   ]
  },
  {
   "cell_type": "code",
   "execution_count": 46,
   "metadata": {},
   "outputs": [],
   "source": [
    "train = world_thing[0:5]"
   ]
  },
  {
   "cell_type": "code",
   "execution_count": 53,
   "metadata": {},
   "outputs": [],
   "source": [
    "val = world_thing[5:-1]"
   ]
  },
  {
   "cell_type": "code",
   "execution_count": 57,
   "metadata": {},
   "outputs": [],
   "source": [
    "test = world_thing[-1:]"
   ]
  },
  {
   "cell_type": "code",
   "execution_count": 54,
   "metadata": {},
   "outputs": [
    {
     "data": {
      "text/html": [
       "<div>\n",
       "<style scoped>\n",
       "    .dataframe tbody tr th:only-of-type {\n",
       "        vertical-align: middle;\n",
       "    }\n",
       "\n",
       "    .dataframe tbody tr th {\n",
       "        vertical-align: top;\n",
       "    }\n",
       "\n",
       "    .dataframe thead th {\n",
       "        text-align: right;\n",
       "    }\n",
       "</style>\n",
       "<table border=\"1\" class=\"dataframe\">\n",
       "  <thead>\n",
       "    <tr style=\"text-align: right;\">\n",
       "      <th></th>\n",
       "      <th>target</th>\n",
       "      <th>lag</th>\n",
       "      <th>lag2</th>\n",
       "      <th>lag1</th>\n",
       "      <th>lag3</th>\n",
       "      <th>lag4</th>\n",
       "      <th>lag5</th>\n",
       "      <th>lag6</th>\n",
       "      <th>lag7</th>\n",
       "      <th>lag8</th>\n",
       "      <th>lag9</th>\n",
       "      <th>lag10</th>\n",
       "      <th>lag11</th>\n",
       "      <th>lag12</th>\n",
       "      <th>lag13</th>\n",
       "      <th>lag14</th>\n",
       "      <th>lag15</th>\n",
       "    </tr>\n",
       "  </thead>\n",
       "  <tbody>\n",
       "    <tr>\n",
       "      <th>2004</th>\n",
       "      <td>2726.32</td>\n",
       "      <td>2578.75</td>\n",
       "      <td>2500.86</td>\n",
       "      <td>2578.75</td>\n",
       "      <td>2437.82</td>\n",
       "      <td>2469.7</td>\n",
       "      <td>2419.71</td>\n",
       "      <td>2461.86</td>\n",
       "      <td>2465.15</td>\n",
       "      <td>2446.34</td>\n",
       "      <td>2397.86</td>\n",
       "      <td>2316.96</td>\n",
       "      <td>2320.25</td>\n",
       "      <td>2225.08</td>\n",
       "      <td>2181.54</td>\n",
       "      <td>2163.09</td>\n",
       "      <td>World</td>\n",
       "    </tr>\n",
       "    <tr>\n",
       "      <th>2005</th>\n",
       "      <td>2869.21</td>\n",
       "      <td>2726.32</td>\n",
       "      <td>2578.75</td>\n",
       "      <td>2726.32</td>\n",
       "      <td>2500.86</td>\n",
       "      <td>2437.82</td>\n",
       "      <td>2469.7</td>\n",
       "      <td>2419.71</td>\n",
       "      <td>2461.86</td>\n",
       "      <td>2465.15</td>\n",
       "      <td>2446.34</td>\n",
       "      <td>2397.86</td>\n",
       "      <td>2316.96</td>\n",
       "      <td>2320.25</td>\n",
       "      <td>2225.08</td>\n",
       "      <td>2181.54</td>\n",
       "      <td>2163.09</td>\n",
       "    </tr>\n",
       "    <tr>\n",
       "      <th>2006</th>\n",
       "      <td>3014.19</td>\n",
       "      <td>2869.21</td>\n",
       "      <td>2726.32</td>\n",
       "      <td>2869.21</td>\n",
       "      <td>2578.75</td>\n",
       "      <td>2500.86</td>\n",
       "      <td>2437.82</td>\n",
       "      <td>2469.7</td>\n",
       "      <td>2419.71</td>\n",
       "      <td>2461.86</td>\n",
       "      <td>2465.15</td>\n",
       "      <td>2446.34</td>\n",
       "      <td>2397.86</td>\n",
       "      <td>2316.96</td>\n",
       "      <td>2320.25</td>\n",
       "      <td>2225.08</td>\n",
       "      <td>2181.54</td>\n",
       "    </tr>\n",
       "    <tr>\n",
       "      <th>2007</th>\n",
       "      <td>3077.79</td>\n",
       "      <td>3014.19</td>\n",
       "      <td>2869.21</td>\n",
       "      <td>3014.19</td>\n",
       "      <td>2726.32</td>\n",
       "      <td>2578.75</td>\n",
       "      <td>2500.86</td>\n",
       "      <td>2437.82</td>\n",
       "      <td>2469.7</td>\n",
       "      <td>2419.71</td>\n",
       "      <td>2461.86</td>\n",
       "      <td>2465.15</td>\n",
       "      <td>2446.34</td>\n",
       "      <td>2397.86</td>\n",
       "      <td>2316.96</td>\n",
       "      <td>2320.25</td>\n",
       "      <td>2225.08</td>\n",
       "    </tr>\n",
       "    <tr>\n",
       "      <th>2008</th>\n",
       "      <td>3211.59</td>\n",
       "      <td>3077.79</td>\n",
       "      <td>3014.19</td>\n",
       "      <td>3077.79</td>\n",
       "      <td>2869.21</td>\n",
       "      <td>2726.32</td>\n",
       "      <td>2578.75</td>\n",
       "      <td>2500.86</td>\n",
       "      <td>2437.82</td>\n",
       "      <td>2469.7</td>\n",
       "      <td>2419.71</td>\n",
       "      <td>2461.86</td>\n",
       "      <td>2465.15</td>\n",
       "      <td>2446.34</td>\n",
       "      <td>2397.86</td>\n",
       "      <td>2316.96</td>\n",
       "      <td>2320.25</td>\n",
       "    </tr>\n",
       "  </tbody>\n",
       "</table>\n",
       "</div>"
      ],
      "text/plain": [
       "       target      lag     lag2     lag1     lag3     lag4     lag5     lag6  \\\n",
       "2004  2726.32  2578.75  2500.86  2578.75  2437.82   2469.7  2419.71  2461.86   \n",
       "2005  2869.21  2726.32  2578.75  2726.32  2500.86  2437.82   2469.7  2419.71   \n",
       "2006  3014.19  2869.21  2726.32  2869.21  2578.75  2500.86  2437.82   2469.7   \n",
       "2007  3077.79  3014.19  2869.21  3014.19  2726.32  2578.75  2500.86  2437.82   \n",
       "2008  3211.59  3077.79  3014.19  3077.79  2869.21  2726.32  2578.75  2500.86   \n",
       "\n",
       "         lag7     lag8     lag9    lag10    lag11    lag12    lag13    lag14  \\\n",
       "2004  2465.15  2446.34  2397.86  2316.96  2320.25  2225.08  2181.54  2163.09   \n",
       "2005  2461.86  2465.15  2446.34  2397.86  2316.96  2320.25  2225.08  2181.54   \n",
       "2006  2419.71  2461.86  2465.15  2446.34  2397.86  2316.96  2320.25  2225.08   \n",
       "2007   2469.7  2419.71  2461.86  2465.15  2446.34  2397.86  2316.96  2320.25   \n",
       "2008  2437.82   2469.7  2419.71  2461.86  2465.15  2446.34  2397.86  2316.96   \n",
       "\n",
       "        lag15  \n",
       "2004    World  \n",
       "2005  2163.09  \n",
       "2006  2181.54  \n",
       "2007  2225.08  \n",
       "2008  2320.25  "
      ]
     },
     "execution_count": 54,
     "metadata": {},
     "output_type": "execute_result"
    }
   ],
   "source": [
    "train"
   ]
  },
  {
   "cell_type": "code",
   "execution_count": 55,
   "metadata": {},
   "outputs": [
    {
     "data": {
      "text/html": [
       "<div>\n",
       "<style scoped>\n",
       "    .dataframe tbody tr th:only-of-type {\n",
       "        vertical-align: middle;\n",
       "    }\n",
       "\n",
       "    .dataframe tbody tr th {\n",
       "        vertical-align: top;\n",
       "    }\n",
       "\n",
       "    .dataframe thead th {\n",
       "        text-align: right;\n",
       "    }\n",
       "</style>\n",
       "<table border=\"1\" class=\"dataframe\">\n",
       "  <thead>\n",
       "    <tr style=\"text-align: right;\">\n",
       "      <th></th>\n",
       "      <th>target</th>\n",
       "      <th>lag</th>\n",
       "      <th>lag2</th>\n",
       "      <th>lag1</th>\n",
       "      <th>lag3</th>\n",
       "      <th>lag4</th>\n",
       "      <th>lag5</th>\n",
       "      <th>lag6</th>\n",
       "      <th>lag7</th>\n",
       "      <th>lag8</th>\n",
       "      <th>lag9</th>\n",
       "      <th>lag10</th>\n",
       "      <th>lag11</th>\n",
       "      <th>lag12</th>\n",
       "      <th>lag13</th>\n",
       "      <th>lag14</th>\n",
       "      <th>lag15</th>\n",
       "    </tr>\n",
       "  </thead>\n",
       "  <tbody>\n",
       "    <tr>\n",
       "      <th>2009</th>\n",
       "      <td>3323.8</td>\n",
       "      <td>3211.59</td>\n",
       "      <td>3077.79</td>\n",
       "      <td>3211.59</td>\n",
       "      <td>3014.19</td>\n",
       "      <td>2869.21</td>\n",
       "      <td>2726.32</td>\n",
       "      <td>2578.75</td>\n",
       "      <td>2500.86</td>\n",
       "      <td>2437.82</td>\n",
       "      <td>2469.7</td>\n",
       "      <td>2419.71</td>\n",
       "      <td>2461.86</td>\n",
       "      <td>2465.15</td>\n",
       "      <td>2446.34</td>\n",
       "      <td>2397.86</td>\n",
       "      <td>2316.96</td>\n",
       "    </tr>\n",
       "    <tr>\n",
       "      <th>2010</th>\n",
       "      <td>3598.04</td>\n",
       "      <td>3323.8</td>\n",
       "      <td>3211.59</td>\n",
       "      <td>3323.8</td>\n",
       "      <td>3077.79</td>\n",
       "      <td>3014.19</td>\n",
       "      <td>2869.21</td>\n",
       "      <td>2726.32</td>\n",
       "      <td>2578.75</td>\n",
       "      <td>2500.86</td>\n",
       "      <td>2437.82</td>\n",
       "      <td>2469.7</td>\n",
       "      <td>2419.71</td>\n",
       "      <td>2461.86</td>\n",
       "      <td>2465.15</td>\n",
       "      <td>2446.34</td>\n",
       "      <td>2397.86</td>\n",
       "    </tr>\n",
       "    <tr>\n",
       "      <th>2011</th>\n",
       "      <td>3815.25</td>\n",
       "      <td>3598.04</td>\n",
       "      <td>3323.8</td>\n",
       "      <td>3598.04</td>\n",
       "      <td>3211.59</td>\n",
       "      <td>3077.79</td>\n",
       "      <td>3014.19</td>\n",
       "      <td>2869.21</td>\n",
       "      <td>2726.32</td>\n",
       "      <td>2578.75</td>\n",
       "      <td>2500.86</td>\n",
       "      <td>2437.82</td>\n",
       "      <td>2469.7</td>\n",
       "      <td>2419.71</td>\n",
       "      <td>2461.86</td>\n",
       "      <td>2465.15</td>\n",
       "      <td>2446.34</td>\n",
       "    </tr>\n",
       "    <tr>\n",
       "      <th>2012</th>\n",
       "      <td>4126.38</td>\n",
       "      <td>3815.25</td>\n",
       "      <td>3598.04</td>\n",
       "      <td>3815.25</td>\n",
       "      <td>3323.8</td>\n",
       "      <td>3211.59</td>\n",
       "      <td>3077.79</td>\n",
       "      <td>3014.19</td>\n",
       "      <td>2869.21</td>\n",
       "      <td>2726.32</td>\n",
       "      <td>2578.75</td>\n",
       "      <td>2500.86</td>\n",
       "      <td>2437.82</td>\n",
       "      <td>2469.7</td>\n",
       "      <td>2419.71</td>\n",
       "      <td>2461.86</td>\n",
       "      <td>2465.15</td>\n",
       "    </tr>\n",
       "    <tr>\n",
       "      <th>2013</th>\n",
       "      <td>4369.77</td>\n",
       "      <td>4126.38</td>\n",
       "      <td>3815.25</td>\n",
       "      <td>4126.38</td>\n",
       "      <td>3598.04</td>\n",
       "      <td>3323.8</td>\n",
       "      <td>3211.59</td>\n",
       "      <td>3077.79</td>\n",
       "      <td>3014.19</td>\n",
       "      <td>2869.21</td>\n",
       "      <td>2726.32</td>\n",
       "      <td>2578.75</td>\n",
       "      <td>2500.86</td>\n",
       "      <td>2437.82</td>\n",
       "      <td>2469.7</td>\n",
       "      <td>2419.71</td>\n",
       "      <td>2461.86</td>\n",
       "    </tr>\n",
       "  </tbody>\n",
       "</table>\n",
       "</div>"
      ],
      "text/plain": [
       "       target      lag     lag2     lag1     lag3     lag4     lag5     lag6  \\\n",
       "2009   3323.8  3211.59  3077.79  3211.59  3014.19  2869.21  2726.32  2578.75   \n",
       "2010  3598.04   3323.8  3211.59   3323.8  3077.79  3014.19  2869.21  2726.32   \n",
       "2011  3815.25  3598.04   3323.8  3598.04  3211.59  3077.79  3014.19  2869.21   \n",
       "2012  4126.38  3815.25  3598.04  3815.25   3323.8  3211.59  3077.79  3014.19   \n",
       "2013  4369.77  4126.38  3815.25  4126.38  3598.04   3323.8  3211.59  3077.79   \n",
       "\n",
       "         lag7     lag8     lag9    lag10    lag11    lag12    lag13    lag14  \\\n",
       "2009  2500.86  2437.82   2469.7  2419.71  2461.86  2465.15  2446.34  2397.86   \n",
       "2010  2578.75  2500.86  2437.82   2469.7  2419.71  2461.86  2465.15  2446.34   \n",
       "2011  2726.32  2578.75  2500.86  2437.82   2469.7  2419.71  2461.86  2465.15   \n",
       "2012  2869.21  2726.32  2578.75  2500.86  2437.82   2469.7  2419.71  2461.86   \n",
       "2013  3014.19  2869.21  2726.32  2578.75  2500.86  2437.82   2469.7  2419.71   \n",
       "\n",
       "        lag15  \n",
       "2009  2316.96  \n",
       "2010  2397.86  \n",
       "2011  2446.34  \n",
       "2012  2465.15  \n",
       "2013  2461.86  "
      ]
     },
     "execution_count": 55,
     "metadata": {},
     "output_type": "execute_result"
    }
   ],
   "source": [
    "val\n",
    "#because this is being used to tune parameters the test set will be the ultimate test of model performance"
   ]
  },
  {
   "cell_type": "code",
   "execution_count": 59,
   "metadata": {},
   "outputs": [
    {
     "data": {
      "text/html": [
       "<div>\n",
       "<style scoped>\n",
       "    .dataframe tbody tr th:only-of-type {\n",
       "        vertical-align: middle;\n",
       "    }\n",
       "\n",
       "    .dataframe tbody tr th {\n",
       "        vertical-align: top;\n",
       "    }\n",
       "\n",
       "    .dataframe thead th {\n",
       "        text-align: right;\n",
       "    }\n",
       "</style>\n",
       "<table border=\"1\" class=\"dataframe\">\n",
       "  <thead>\n",
       "    <tr style=\"text-align: right;\">\n",
       "      <th></th>\n",
       "      <th>target</th>\n",
       "      <th>lag</th>\n",
       "      <th>lag2</th>\n",
       "      <th>lag1</th>\n",
       "      <th>lag3</th>\n",
       "      <th>lag4</th>\n",
       "      <th>lag5</th>\n",
       "      <th>lag6</th>\n",
       "      <th>lag7</th>\n",
       "      <th>lag8</th>\n",
       "      <th>lag9</th>\n",
       "      <th>lag10</th>\n",
       "      <th>lag11</th>\n",
       "      <th>lag12</th>\n",
       "      <th>lag13</th>\n",
       "      <th>lag14</th>\n",
       "      <th>lag15</th>\n",
       "    </tr>\n",
       "  </thead>\n",
       "  <tbody>\n",
       "    <tr>\n",
       "      <th>2014</th>\n",
       "      <td>4539.39</td>\n",
       "      <td>4369.77</td>\n",
       "      <td>4126.38</td>\n",
       "      <td>4369.77</td>\n",
       "      <td>3815.25</td>\n",
       "      <td>3598.04</td>\n",
       "      <td>3323.8</td>\n",
       "      <td>3211.59</td>\n",
       "      <td>3077.79</td>\n",
       "      <td>3014.19</td>\n",
       "      <td>2869.21</td>\n",
       "      <td>2726.32</td>\n",
       "      <td>2578.75</td>\n",
       "      <td>2500.86</td>\n",
       "      <td>2437.82</td>\n",
       "      <td>2469.7</td>\n",
       "      <td>2419.71</td>\n",
       "    </tr>\n",
       "  </tbody>\n",
       "</table>\n",
       "</div>"
      ],
      "text/plain": [
       "       target      lag     lag2     lag1     lag3     lag4    lag5     lag6  \\\n",
       "2014  4539.39  4369.77  4126.38  4369.77  3815.25  3598.04  3323.8  3211.59   \n",
       "\n",
       "         lag7     lag8     lag9    lag10    lag11    lag12    lag13   lag14  \\\n",
       "2014  3077.79  3014.19  2869.21  2726.32  2578.75  2500.86  2437.82  2469.7   \n",
       "\n",
       "        lag15  \n",
       "2014  2419.71  "
      ]
     },
     "execution_count": 59,
     "metadata": {},
     "output_type": "execute_result"
    }
   ],
   "source": [
    "test"
   ]
  },
  {
   "cell_type": "code",
   "execution_count": 60,
   "metadata": {},
   "outputs": [],
   "source": [
    "#put this stuff in bayes\n",
    "#in bayes fit the model on train\n",
    "#"
   ]
  },
  {
   "cell_type": "code",
   "execution_count": null,
   "metadata": {},
   "outputs": [],
   "source": []
  },
  {
   "cell_type": "code",
   "execution_count": null,
   "metadata": {},
   "outputs": [],
   "source": []
  },
  {
   "cell_type": "code",
   "execution_count": null,
   "metadata": {},
   "outputs": [],
   "source": []
  },
  {
   "cell_type": "code",
   "execution_count": null,
   "metadata": {},
   "outputs": [],
   "source": [
    "#try an arma model (order = 15,0)"
   ]
  },
  {
   "cell_type": "code",
   "execution_count": 31,
   "metadata": {},
   "outputs": [
    {
     "data": {
      "text/plain": [
       "37     object\n",
       "lag    object\n",
       "dtype: object"
      ]
     },
     "execution_count": 31,
     "metadata": {},
     "output_type": "execute_result"
    }
   ],
   "source": [
    "world.dtypes"
   ]
  },
  {
   "cell_type": "code",
   "execution_count": 33,
   "metadata": {},
   "outputs": [],
   "source": [
    "world;\n",
    "#37 is predictions\n",
    "# lag is our features"
   ]
  },
  {
   "cell_type": "code",
   "execution_count": null,
   "metadata": {},
   "outputs": [],
   "source": [
    "#convert type to number"
   ]
  },
  {
   "cell_type": "code",
   "execution_count": null,
   "metadata": {},
   "outputs": [],
   "source": []
  }
 ],
 "metadata": {
  "kernelspec": {
   "display_name": "Python 3",
   "language": "python",
   "name": "python3"
  },
  "language_info": {
   "codemirror_mode": {
    "name": "ipython",
    "version": 3
   },
   "file_extension": ".py",
   "mimetype": "text/x-python",
   "name": "python",
   "nbconvert_exporter": "python",
   "pygments_lexer": "ipython3",
   "version": "3.6.5"
  }
 },
 "nbformat": 4,
 "nbformat_minor": 2
}
