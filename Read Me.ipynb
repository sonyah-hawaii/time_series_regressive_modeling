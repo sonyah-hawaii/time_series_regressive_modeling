{
 "cells": [
  {
   "cell_type": "markdown",
   "metadata": {},
   "source": [
    "# READ ME\n",
    "### Executive Summary:\n",
    "- one leading performance metric\n",
    "- one visual element\n",
    "- if someone has two minutes to get the most important message from this, what would you write?\n",
    "- mention some techniques\n",
    "- Talk about what skills are demonstrated here that would be relevant to the job\n",
    "\n",
    "### Target:\n",
    "- Units of CO2 Abated (2014)  \n",
    "\n",
    "### Attributes:\n",
    "- Historical CO2 Abatement (1990-2013)\n",
    "- Historical GDP Per Capita (1990-2013)\n",
    "- Total CO2 Emissions (1990-2013)\n",
    "- % of CO2 Emissions from Electricity and Heat (1990-2013)\n",
    "\n",
    "\n",
    "### Data Sources:\n",
    "- [EnerData Global Statistical Yearbook](https://yearbook.enerdata.net/)\n",
    "- [World Bank (CO2 Emissions)](https://data.worldbank.org/indicator/EN.CO2.ETOT.ZS)\n",
    "- [World Bank (GDP Per Capita](https://data.worldbank.org/indicator/NY.GDP.PCAP.CD)\n",
    "- [World Intellectual Property Organization](http://www.wipo.int/econ_stat/en/economics/research/)\n",
    "\n",
    "### 37 Countries from 6 continents included\n",
    "(Full list [here](http://localhost:8888/lab#full_country_list))\n",
    "\n",
    "## Table of Contents\n",
    "- [Developing the target](#abatement calculations)  \n",
    "_This notebook details the steps to calculate units of CO2 Abated annually._\n",
    "- [Variance & distributions of the dataset](#variance analysis)  \n",
    "__\n",
    "- [Developing abatement & consumption profiles](#clustering)\n",
    "- Predicting abatement: [Time-series and autoregression](#time series analysis)  \n",
    "_description_\n",
    "- Predicting abatement: [Bayesian regression](#bayesian regression)  \n",
    "_description_\n",
    "- [Model comparison](#model comparison/summary file)\n",
    "_description_\n",
    "\n",
    "\n",
    "- brief descriptions of notebooks with hyperlinks\n",
    "    - ex. ['EDA with Clustering'](https:www.google.com/) to cluster notebook\n",
    "\n"
   ]
  },
  {
   "cell_type": "markdown",
   "metadata": {},
   "source": [
    "### make read me a blog post and link it to github (leave the readme in github folder, too)\n",
    "\n",
    "- read me has links to the specific section referred to, notebook has a link back to the readme"
   ]
  },
  {
   "cell_type": "markdown",
   "metadata": {},
   "source": [
    "### Within notebooks:\n",
    "- include another table of contents\n",
    "- every section should have a brief description with goals\n",
    "- the end of every section should have a summary looking at what goals were accomplished, what expetations were/were not met, how analysis would continue given time\n",
    "- showcasing ideas as well as the work\n",
    "- each notebook should end with a link to the next notebook"
   ]
  },
  {
   "cell_type": "markdown",
   "metadata": {},
   "source": [
    "### _Initial visualization of global trends_\n",
    "\n",
    "<a id='visualization'></a>\n",
    "\n",
    "\n",
    "- generate a for loop to create a distribution per year of my given metric\n",
    "- plt.save_fig or something like that, png files\n",
    "- imagemagick (command line tool)  \n",
    "\n",
    "- the ratio of renewable energy production to conventional energy production\n",
    "- andrews curves\n",
    "\n",
    "\n",
    "- possibly that the demand for electriity increased while renewable energy stayed level\n",
    "- could be related to oil price around dot com era, maybe these institutions are contributing to electricity consumption\n"
   ]
  },
  {
   "cell_type": "markdown",
   "metadata": {},
   "source": [
    "### _Location_\n",
    "<a id='location'></a>"
   ]
  },
  {
   "cell_type": "markdown",
   "metadata": {},
   "source": []
  }
 ],
 "metadata": {
  "kernelspec": {
   "display_name": "Python [conda env:dsi]",
   "language": "python",
   "name": "conda-env-dsi-py"
  },
  "language_info": {
   "codemirror_mode": {
    "name": "ipython",
    "version": 3
   },
   "file_extension": ".py",
   "mimetype": "text/x-python",
   "name": "python",
   "nbconvert_exporter": "python",
   "pygments_lexer": "ipython3",
   "version": "3.6.5"
  }
 },
 "nbformat": 4,
 "nbformat_minor": 2
}
